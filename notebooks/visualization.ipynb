{
 "cells": [
  {
   "cell_type": "code",
   "execution_count": null,
   "metadata": {},
   "outputs": [],
   "source": [
    "import matplotlib.pyplot as plt\n",
    "import os"
   ]
  },
  {
   "cell_type": "code",
   "execution_count": null,
   "metadata": {},
   "outputs": [],
   "source": [
    "class Visualization():\n",
    "    def __init__(self, visuals_path, log_run_id):\n",
    "        self.visuals_path = visuals_path\n",
    "        self.log_run_id = log_run_id\n",
    "        self.path = f\"{self.visuals_path}/{self.log_run_id}\"\n",
    "        os.makedirs(f\"{self.path}\", exist_ok=True)\n",
    "\n",
    "    # Residuals' histogram plot\n",
    "\n",
    "    def plot_residuals(self, residuals):\n",
    "        plt.hist(residuals, bins=20, edgecolor='k') \n",
    "        plt.title('Residuals Histogram')\n",
    "        plt.xlabel('Residuals')\n",
    "        plt.ylabel('Frequency')\n",
    "        plt.grid(True)\n",
    "        plt.savefig(f\"{self.path}/residuals.png\")\n",
    "        plt.show()\n",
    "\n",
    "    # Residuals vs outputs scatter plot\n",
    "\n",
    "    def plot_residuals_vs_outputs(self, residuals, outputs):\n",
    "        plt.scatter(outputs, residuals)\n",
    "        plt.title('Residuals vs Outputs')\n",
    "        plt.ylabel('Residuals')\n",
    "        plt.xlabel('Outputs')\n",
    "        plt.grid(True)\n",
    "        plt.savefig(f\"{self.path}/residuals_vs_outputs.png\")\n",
    "        plt.show()\n",
    "\n",
    "    # Residuals errors scatter plot\n",
    "\n",
    "    def plot_residuals_errors(self, residuals):\n",
    "        plt.scatter(range(len(residuals)), residuals, alpha=0.5)\n",
    "        plt.title('Residual Errors Scatter Plot')\n",
    "        plt.xlabel('Samples')\n",
    "        plt.ylabel('Residual Error')\n",
    "        plt.grid(True)\n",
    "        plt.savefig(f\"{self.path}/residuals_errors.png\")\n",
    "        plt.show()\n",
    "\n",
    "    # Targets means vs losses scatter plot\n",
    "\n",
    "    def plot_targets_means_vs_losses(self, targets_test_mean, test_loss):\n",
    "        plt.scatter(targets_test_mean, test_loss, color='blue', alpha=0.7)\n",
    "        plt.title('Error vs. Target Means')\n",
    "        plt.xlabel('Target Means')\n",
    "        plt.ylabel('Error')\n",
    "        plt.grid(True)\n",
    "        plt.savefig(f\"{self.path}/targets_means_vs_losses.PNG\")\n",
    "        plt.show()\n",
    "\n",
    "    # Outputs vs targets scatter plot\n",
    "\n",
    "    def plot_outputs_vs_targets(self, outputs, targets, title = 'Predicted vs. Targets'):\n",
    "        plt.title(title)\n",
    "        plt.ylabel('Outputs')\n",
    "        plt.xlabel('Targets')\n",
    "        plt.scatter(outputs, targets)\n",
    "        plt.savefig(f\"{self.path}/outputs_vs_targets.png\")\n",
    "        plt.show()"
   ]
  }
 ],
 "metadata": {
  "kernelspec": {
   "display_name": "venv",
   "language": "python",
   "name": "python3"
  },
  "language_info": {
   "codemirror_mode": {
    "name": "ipython",
    "version": 3
   },
   "file_extension": ".py",
   "mimetype": "text/x-python",
   "name": "python",
   "nbconvert_exporter": "python",
   "pygments_lexer": "ipython3",
   "version": "3.10.9"
  },
  "orig_nbformat": 4
 },
 "nbformat": 4,
 "nbformat_minor": 2
}
