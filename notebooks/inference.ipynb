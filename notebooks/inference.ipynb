{
 "cells": [
  {
   "cell_type": "code",
   "execution_count": null,
   "metadata": {},
   "outputs": [],
   "source": [
    "from torch.utils.data import DataLoader\n",
    "from torchvision.models import get_model, ViT_B_32_Weights\n",
    "import pytorch_lightning as pl\n",
    "import numpy as np\n",
    "import pandas as pd\n",
    "from sklearn.preprocessing import MinMaxScaler"
   ]
  },
  {
   "cell_type": "code",
   "execution_count": null,
   "metadata": {},
   "outputs": [],
   "source": [
    "import import_ipynb\n",
    "from vit import UAV_vit\n",
    "from dataset import BaseDataset"
   ]
  },
  {
   "cell_type": "code",
   "execution_count": null,
   "metadata": {},
   "outputs": [],
   "source": [
    "CHECKPOINT_PATH = './mlruns/0/c25ee6cf7dca4d15b4868e4a344dd807/artifacts/restored_model_checkpoint/uav_vit-checkpoint.ckpt'\n",
    "GROUND_TRUTH_PATH = '../data/ground_truth/corn_plant_height_ground_truth.xlsx'\n",
    "SAMPLES_PATH = \"../data/raw_samples\"\n",
    "IMG_SIZE = (224,224)\n",
    "BATCH_SIZE = 8"
   ]
  },
  {
   "cell_type": "code",
   "execution_count": null,
   "metadata": {},
   "outputs": [],
   "source": [
    "# Loading the ground truth\n",
    "df = pd.read_excel(GROUND_TRUTH_PATH)\n",
    "df[['DataFile 3', 'PHT(m)', 'Elev maximum (m)']].head()\n",
    "# Ground Truth Preprocessing\n",
    "\n",
    "def renaming(filename):\n",
    "    return filename[:-4] + \".png\"\n",
    "\n",
    "def elev_avg(row):\n",
    "    return (row['PHT(m)'] + row[\"Elev maximum (m)\"]) / 2\n",
    "\n",
    "# Apply renaming and averaging\n",
    "df[\"filename\"] = df[\"DataFile 3\"].apply(renaming)\n",
    "df[\"elevation_avg\"] = (df.apply(elev_avg, axis=1))\n",
    "\n",
    "# Elevation format conversion to float32\n",
    "df[\"elevation_avg\"] = df[\"elevation_avg\"].astype(np.float32)\n",
    "df[['filename', 'elevation_avg']].head()\n",
    "\n",
    "# Targets normalization\n",
    "\n",
    "scaler = MinMaxScaler()\n",
    "df[\"elevation\"] = scaler.fit_transform(df[[\"elevation_avg\"]])"
   ]
  },
  {
   "cell_type": "code",
   "execution_count": null,
   "metadata": {},
   "outputs": [],
   "source": [
    "samplesDataset = BaseDataset(SAMPLES_PATH, IMG_SIZE, normalize=False)\n",
    "samplesDataloader = DataLoader(samplesDataset, batch_size=BATCH_SIZE)"
   ]
  },
  {
   "cell_type": "code",
   "execution_count": null,
   "metadata": {},
   "outputs": [],
   "source": [
    "model_path = '../' + CHECKPOINT_PATH\n",
    "backbone = get_model('vit_b_32', weights=ViT_B_32_Weights)\n",
    "model = UAV_vit.load_from_checkpoint(model_path, backbone=backbone)\n",
    "model.eval()\n"
   ]
  },
  {
   "cell_type": "code",
   "execution_count": null,
   "metadata": {},
   "outputs": [],
   "source": [
    "# Predictions\n",
    "trainer = pl.Trainer()\n",
    "predictions = trainer.predict(model, dataloaders=samplesDataloader, return_predictions=True)"
   ]
  },
  {
   "cell_type": "code",
   "execution_count": null,
   "metadata": {},
   "outputs": [],
   "source": [
    "predictions = np.concatenate(predictions)\n",
    "predictions = scaler.inverse_transform(np.array(predictions).reshape(-1,1))\n",
    "predictions = [item.item() for sublist in predictions for item in sublist]\n",
    "print(\"Predicted results:\\n\", *predictions, sep='\\n')"
   ]
  }
 ],
 "metadata": {
  "kernelspec": {
   "display_name": "venv",
   "language": "python",
   "name": "python3"
  },
  "language_info": {
   "codemirror_mode": {
    "name": "ipython",
    "version": 3
   },
   "file_extension": ".py",
   "mimetype": "text/x-python",
   "name": "python",
   "nbconvert_exporter": "python",
   "pygments_lexer": "ipython3",
   "version": "3.11.3"
  }
 },
 "nbformat": 4,
 "nbformat_minor": 2
}
