{
 "cells": [
  {
   "cell_type": "code",
   "execution_count": 1,
   "metadata": {},
   "outputs": [],
   "source": [
    "from rasterio.mask import mask\n",
    "import os\n",
    "import rasterio\n",
    "import shapefile\n",
    "import sys"
   ]
  },
  {
   "cell_type": "code",
   "execution_count": null,
   "metadata": {},
   "outputs": [],
   "source": [
    "class Clipper:\n",
    "\n",
    "    def __init__(self, orthophoto_path, shapefile_path, output_path):\n",
    "        self.ORTHOMOSAIC_PATH = orthophoto_path\n",
    "        self.SHAPEFILE_PATH = shapefile_path\n",
    "        self.OUTPUT_PATH = output_path\n",
    "        self.make_folder()\n",
    "\n",
    "    def make_folder(self):\n",
    "        if not os.path.exists(self.OUTPUT_PATH):\n",
    "            os.makedirs(self.OUTPUT_PATH)\n",
    "\n",
    "    def start(self):\n",
    "\n",
    "        sf = shapefile.Reader(self.SHAPEFILE_PATH)\n",
    "        ortho_dataset = rasterio.open(self.ORTHOMOSAIC_PATH)\n",
    "\n",
    "        # Shapefile's loop thought records\n",
    "        for plot in sf.iterShapeRecords():\n",
    "            # Gathers the plot geometry\n",
    "            plot_geometry = plot.shape.__geo_interface__\n",
    "            interface = plot.__geo_interface__\n",
    "            print(interface)\n",
    "\n",
    "            # Gets the plot's name from the record\n",
    "            plot_name = plot.record[1]\n",
    "            print(plot.record)\n",
    "\n",
    "            # Reads the orthomosaic subset that matches the plot\n",
    "            cropped_image, _ = mask(ortho_dataset, [plot_geometry], crop=True)\n",
    "            print(\"image shape \", cropped_image.shape)\n",
    "\n",
    "            # Checks whether the image is in RGBA and reduces it to RGB if necessary\n",
    "            if cropped_image.shape[0] == 4:\n",
    "                cropped_image = cropped_image[:3, :, :]\n",
    "\n",
    "            file_path = os.path.join(self.OUTPUT_PATH, f'{plot_name}.png')\n",
    "\n",
    "            with rasterio.open(file_path, 'w', driver='PNG', height=cropped_image.shape[1], width=cropped_image.shape[2], count=3, dtype='uint8') as dst:\n",
    "                dst.write(cropped_image)"
   ]
  },
  {
   "cell_type": "code",
   "execution_count": null,
   "metadata": {},
   "outputs": [],
   "source": [
    "if __name__ == \"__main__\":\n",
    "    orthomosaic_path = '../data/orthomosaic/raster.tif'\n",
    "    shapefile_path = '../data/shapefile/all_plots.shp'\n",
    "    output_path = '../data/plots'\n",
    "    \n",
    "    clipper = Clipper(orthomosaic_path, shapefile_path, output_path)\n",
    "    clipper.start()"
   ]
  }
 ],
 "metadata": {
  "kernelspec": {
   "display_name": "venv",
   "language": "python",
   "name": "python3"
  },
  "language_info": {
   "codemirror_mode": {
    "name": "ipython",
    "version": 3
   },
   "file_extension": ".py",
   "mimetype": "text/x-python",
   "name": "python",
   "nbconvert_exporter": "python",
   "pygments_lexer": "ipython3",
   "version": "3.11.3"
  },
  "orig_nbformat": 4
 },
 "nbformat": 4,
 "nbformat_minor": 2
}
