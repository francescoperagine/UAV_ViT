{
 "cells": [
  {
   "cell_type": "code",
   "execution_count": null,
   "metadata": {},
   "outputs": [],
   "source": [
    "import os\n",
    "import rasterio\n",
    "from rasterio.mask import mask\n",
    "\n",
    "import sys\n",
    "sys.path.append('../')\n",
    "from pyshp import shapefile"
   ]
  },
  {
   "cell_type": "code",
   "execution_count": null,
   "metadata": {},
   "outputs": [],
   "source": [
    "class Clipper:\n",
    "\n",
    "    def __init__(self, orthophoto_path, shapefile_path, output_path):\n",
    "        self.ORTHOMOSAIC_PATH = orthophoto_path\n",
    "        self.SHAPEFILE_PATH = shapefile_path\n",
    "        self.OUTPUT_PATH = output_path\n",
    "        self.make_folder()\n",
    "\n",
    "    # Crea la cartella di output se non esiste\n",
    "    def make_folder(self):\n",
    "        if not os.path.exists(self.OUTPUT_PATH):\n",
    "            os.makedirs(self.OUTPUT_PATH)\n",
    "\n",
    "    def start(self):\n",
    "        # Apri il file dello shapefile\n",
    "        sf = shapefile.Reader(self.SHAPEFILE_PATH)\n",
    "\n",
    "        # Apri il file dell'ortomosaico utilizzando rasterio\n",
    "        ortho_dataset = rasterio.open(self.ORTHOMOSAIC_PATH)\n",
    "\n",
    "        # Loop attraverso i record dello shapefile\n",
    "        for plot in sf.iterShapeRecords():\n",
    "            # Ottieni la geometria del plot dal record\n",
    "            plot_geometry = plot.shape.__geo_interface__\n",
    "            interface = plot.__geo_interface__\n",
    "            print(interface)\n",
    "\n",
    "            # Ottieni il nome del plot dal record\n",
    "            plot_name = plot.record[1]\n",
    "            print(plot.record)\n",
    "\n",
    "            # Leggi il subset dell'immagine dell'ortomosaico corrispondente al plot\n",
    "            cropped_image, _ = mask(ortho_dataset, [plot_geometry], crop=True)\n",
    "            print(\"image shape \", cropped_image.shape)\n",
    "\n",
    "            # Controlla se l'immagine è nel formato RGBA (4 canali) e riduci a RGB (3 canali) se necessario\n",
    "            if cropped_image.shape[0] == 4:\n",
    "                cropped_image = cropped_image[:3, :, :]\n",
    "\n",
    "            # Crea il percorso completo per il file PNG di output\n",
    "            file_path = os.path.join(self.OUTPUT_PATH, f'{plot_name}.png')\n",
    "\n",
    "            # Scrivi l'immagine ritagliata come file PNG utilizzando rasterio\n",
    "            with rasterio.open(file_path, 'w', driver='PNG', height=cropped_image.shape[1], width=cropped_image.shape[2], count=3, dtype='uint8') as dst:\n",
    "                dst.write(cropped_image)"
   ]
  },
  {
   "cell_type": "code",
   "execution_count": null,
   "metadata": {},
   "outputs": [],
   "source": [
    "if __name__ == \"__main__\":\n",
    "    orthomosaic_path = '../data/orthophoto/raster.tif'\n",
    "    shapefile_path = '../data/raw/Case_Study_1/Shapefile/Plots_Shapefile/all_plots.shp'\n",
    "    output_path = '../data/plots'\n",
    "    \n",
    "    clipper = Clipper(orthomosaic_path, shapefile_path, output_path)\n",
    "    clipper.start()"
   ]
  }
 ],
 "metadata": {
  "kernelspec": {
   "display_name": "venv",
   "language": "python",
   "name": "python3"
  },
  "language_info": {
   "codemirror_mode": {
    "name": "ipython",
    "version": 3
   },
   "file_extension": ".py",
   "mimetype": "text/x-python",
   "name": "python",
   "nbconvert_exporter": "python",
   "pygments_lexer": "ipython3",
   "version": "3.10.9"
  },
  "orig_nbformat": 4
 },
 "nbformat": 4,
 "nbformat_minor": 2
}
