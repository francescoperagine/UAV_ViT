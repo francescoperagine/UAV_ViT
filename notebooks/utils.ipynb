{
 "cells": [
  {
   "cell_type": "code",
   "execution_count": null,
   "metadata": {},
   "outputs": [],
   "source": [
    "import matplotlib.pyplot as plt\n",
    "import numpy as np\n",
    "import torch\n",
    "import math"
   ]
  },
  {
   "cell_type": "code",
   "execution_count": 1,
   "metadata": {},
   "outputs": [],
   "source": [
    "def show_dataset_samples(dataset, labels, name):\n",
    "    cols, rows = 4, 4\n",
    "    figure = plt.figure(figsize=(8, 8))\n",
    "    for i in range(1, cols * rows + 1):\n",
    "        sample_index = torch.randint(len(dataset), size=(1,)).item()\n",
    "        img, _ = dataset[sample_index]\n",
    "        label = labels[sample_index]\n",
    "        img = img.permute(1,2,0)\n",
    "        figure.add_subplot(rows, cols, i)\n",
    "        plt.suptitle(\"Plot samples \" + name)\n",
    "        filename = dataset.labels.iloc[i]['plot'][0:-4]\n",
    "        plt.title(f'{filename}: {label:.2f}m')        \n",
    "        plt.axis(\"off\")\n",
    "        plt.imshow(img)\n",
    "    plt.show()"
   ]
  },
  {
   "cell_type": "code",
   "execution_count": null,
   "metadata": {},
   "outputs": [],
   "source": [
    "# Find LR\n",
    "\n",
    "def find_lr(model, loss_fn, optimizer, dataloader, init_value=1e-8, final_value=10.0):\n",
    "    number_in_epoch = len(dataloader) - 1\n",
    "    update_step = (final_value / init_value) ** (1 / number_in_epoch)\n",
    "    lr = init_value\n",
    "    optimizer.param_groups[0][\"lr\"] = lr\n",
    "    best_loss = 0.0\n",
    "    batch_num = 0\n",
    "    losses = []\n",
    "    log_lrs = []\n",
    "    for data in dataloader:\n",
    "        batch_num += 1\n",
    "        inputs, labels = data\n",
    "        inputs, labels = inputs, labels.unsqueeze(-1)\n",
    "        optimizer.zero_grad()\n",
    "        outputs = model(inputs)\n",
    "        loss = loss_fn(outputs, labels)\n",
    "\n",
    "        # Crash out if loss explodes\n",
    "\n",
    "        if batch_num > 1 and loss > 4 * best_loss:\n",
    "            print(\"exploding loss at batch: \", batch_num)\n",
    "            return log_lrs, losses\n",
    "\n",
    "        # Record the best loss\n",
    "\n",
    "        if loss < best_loss or batch_num == 1:\n",
    "            best_loss = loss\n",
    "\n",
    "        # Store the values\n",
    "        losses.append(loss.item())\n",
    "        \n",
    "        log_lr = math.log10(lr)\n",
    "        log_lrs.append(log_lr)\n",
    "\n",
    "\n",
    "        # Do the backward pass and optimize\n",
    "\n",
    "        loss.backward()\n",
    "        optimizer.step()\n",
    "\n",
    "        # Update the lr for the next step and store\n",
    "\n",
    "        lr *= update_step\n",
    "        optimizer.param_groups[0][\"lr\"] = lr\n",
    "        # print(f\"loss item {loss.item()} lr {lr}\")\n",
    "\n",
    "    return log_lrs, losses"
   ]
  },
  {
   "cell_type": "code",
   "execution_count": null,
   "metadata": {},
   "outputs": [],
   "source": [
    "def find_steepest_point(log_lrs, losses):\n",
    "    derivatives = np.array([losses[i + 1] - losses[i] for i in range(len(losses) - 1)])\n",
    "    max_index = np.where(derivatives < 0)[0][np.argmax(np.abs(derivatives[derivatives < 0]))]\n",
    "    return log_lrs[max_index]"
   ]
  },
  {
   "cell_type": "code",
   "execution_count": 2,
   "metadata": {},
   "outputs": [],
   "source": [
    "def get_means_stds(dataset):\n",
    "    tensors = [plot[0] for plot in dataset]\n",
    "\n",
    "    # Split channels\n",
    "    channels = torch.chunk(torch.stack(tensors), 3, dim=1)\n",
    "\n",
    "    means = [torch.mean(channel).item() for channel in channels]\n",
    "    stds = [torch.std(channel).item() for channel in channels]\n",
    "\n",
    "    return means, stds"
   ]
  }
 ],
 "metadata": {
  "kernelspec": {
   "display_name": "venv",
   "language": "python",
   "name": "python3"
  },
  "language_info": {
   "codemirror_mode": {
    "name": "ipython",
    "version": 3
   },
   "file_extension": ".py",
   "mimetype": "text/x-python",
   "name": "python",
   "nbconvert_exporter": "python",
   "pygments_lexer": "ipython3",
   "version": "3.10.9"
  },
  "orig_nbformat": 4
 },
 "nbformat": 4,
 "nbformat_minor": 2
}
