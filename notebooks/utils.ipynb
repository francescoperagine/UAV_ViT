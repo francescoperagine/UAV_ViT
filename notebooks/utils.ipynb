{
 "cells": [
  {
   "cell_type": "code",
   "execution_count": null,
   "metadata": {},
   "outputs": [],
   "source": [
    "import matplotlib.pyplot as plt\n",
    "import numpy as np\n",
    "import torch"
   ]
  },
  {
   "cell_type": "code",
   "execution_count": 1,
   "metadata": {},
   "outputs": [],
   "source": [
    "def get_dataset_samples(dataset, name):\n",
    "    cols, rows = 4, 4\n",
    "    figure = plt.figure(figsize=(8, 8))\n",
    "    for i in range(1, cols * rows + 1):\n",
    "        sample_index = torch.randint(len(dataset), size=(1,)).item()\n",
    "        img, label = dataset[sample_index]\n",
    "        img = img.permute(1,2,0)\n",
    "        figure.add_subplot(rows, cols, i)\n",
    "        plt.suptitle(\"Plot samples \" + name)\n",
    "        filename = dataset.labels.iloc[i]['plot'][0:-4]\n",
    "        plt.title(f'{filename}: {label:.2f}m')        \n",
    "        plt.axis(\"off\")\n",
    "        plt.imshow(img)\n",
    "    plt.show()"
   ]
  },
  {
   "cell_type": "code",
   "execution_count": 2,
   "metadata": {},
   "outputs": [],
   "source": [
    "def calculate_mean_std(dataset):\n",
    "    \"\"\"\n",
    "    Calculate the mean and standard deviation of the RGB channels for all images in a dataset.\n",
    "\n",
    "    Args:\n",
    "        dataset (torch.utils.data.Dataset): The PyTorch dataset containing (image, label) pairs.\n",
    "\n",
    "    Returns:\n",
    "        tuple: A tuple containing two lists, one for channel means and one for channel standard deviations.\n",
    "    \"\"\"\n",
    "    channel_sums = [0.0, 0.0, 0.0]\n",
    "    channel_sums_squared = [0.0, 0.0, 0.0]\n",
    "    num_samples = len(dataset)\n",
    "\n",
    "    for img, _ in dataset:\n",
    "        img = np.array(img)  # Converte il tensore PyTorch in un array NumPy\n",
    "        for i in range(3):  # Per ogni canale (R, G, B)\n",
    "            channel_sums[i] += np.sum(img[:, :, i]) # type: ignore\n",
    "            channel_sums_squared[i] += np.sum(img[:, :, i] ** 2) # type: ignore\n",
    "\n",
    "    channel_means = [sum / (num_samples * 244 * 244) for sum in channel_sums]\n",
    "    channel_stds = [np.sqrt((sum_squared / (num_samples * 244 * 244)) - (mean ** 2)) for sum_squared, mean in zip(channel_sums_squared, channel_means)]\n",
    "\n",
    "    return channel_means, channel_stds"
   ]
  }
 ],
 "metadata": {
  "kernelspec": {
   "display_name": "venv",
   "language": "python",
   "name": "python3"
  },
  "language_info": {
   "codemirror_mode": {
    "name": "ipython",
    "version": 3
   },
   "file_extension": ".py",
   "mimetype": "text/x-python",
   "name": "python",
   "nbconvert_exporter": "python",
   "pygments_lexer": "ipython3",
   "version": "3.10.9"
  },
  "orig_nbformat": 4
 },
 "nbformat": 4,
 "nbformat_minor": 2
}
