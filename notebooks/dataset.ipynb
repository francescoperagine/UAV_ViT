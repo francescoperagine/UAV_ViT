{
 "cells": [
  {
   "cell_type": "code",
   "execution_count": null,
   "metadata": {},
   "outputs": [],
   "source": [
    "from torch.utils.data import Dataset\n",
    "from torchvision.io import read_image\n",
    "from torchvision.transforms import v2\n",
    "import os\n",
    "import torch\n",
    "import torch.nn.functional as TF\n",
    "import matplotlib.pyplot as plt"
   ]
  },
  {
   "cell_type": "code",
   "execution_count": null,
   "metadata": {},
   "outputs": [],
   "source": [
    "class SquarePad:\n",
    "    def __call__(self, image):\n",
    "        _, w, h = image.size()\n",
    "        max_wh = max(w, h)\n",
    "        hp = int((max_wh - w) / 2)\n",
    "        vp = int((max_wh - h) / 2)\n",
    "        padding = [vp, vp, hp, hp]\n",
    "        padded_img = TF.pad(image, padding)\n",
    "        return padded_img"
   ]
  },
  {
   "cell_type": "code",
   "execution_count": null,
   "metadata": {},
   "outputs": [],
   "source": [
    "class MinMaxScalerVectorized(object):\n",
    "    def __call__(self, image):\n",
    "        dist = (image.max(dim=1, keepdim=True)[0] - image.min(dim=1, keepdim=True)[0])\n",
    "        dist[dist==0.] = 1.\n",
    "        scale = 1.0 /  dist\n",
    "        image.mul_(scale).sub_(image.min(dim=1, keepdim=True)[0])\n",
    "        return image"
   ]
  },
  {
   "cell_type": "code",
   "execution_count": null,
   "metadata": {},
   "outputs": [],
   "source": [
    "class BaseDataset(Dataset):\n",
    "    def __init__(self, img_dir, img_size, antialias=True):\n",
    "        self.img_dir = img_dir        \n",
    "        self.img_size = img_size\n",
    "        self.antialias = antialias\n",
    "        self.image_names = os.listdir(img_dir)\n",
    "        self.transform = v2.Compose([\n",
    "            # Initialize the transform list by adding in the square padding\n",
    "            SquarePad(),\n",
    "            v2.Resize(size=self.img_size, antialias=self.antialias),\n",
    "            # Append the conversion to tensor to the transform list\n",
    "            v2.ConvertImageDtype(torch.float32),\n",
    "            MinMaxScalerVectorized()\n",
    "            # v2.Normalize(mean=[0.09371563792228699, 0.0821407213807106, 0.08119282871484756], std=[0.16423960030078888, 0.14668214321136475, 0.14383625984191895])\n",
    "        ])    \n",
    "\n",
    "    def __len__(self):\n",
    "        return len(self.image_names)\n",
    "\n",
    "    def __getitem__(self, index):\n",
    "        row = self.image_names[index] # picks all images in the directory\n",
    "\n",
    "        image_path = os.path.join(os.getcwd(), self.img_dir, row)\n",
    "        image = read_image(image_path)\n",
    "        \n",
    "        image = self.transform(image)\n",
    "\n",
    "        return image\n",
    "    \n",
    "    def save_dataset(self, filename):\n",
    "        with open(filename, 'wb') as f:\n",
    "            torch.save(self, f)"
   ]
  },
  {
   "cell_type": "code",
   "execution_count": null,
   "metadata": {},
   "outputs": [],
   "source": [
    "class PlotsDataset(BaseDataset):\n",
    "\n",
    "    \"\"\" Args: \n",
    "            labels: dataframe with the labels must contain the columns: filename, elevation (normalized), elevation_avg\n",
    "            img_size: tuple with the size of the image\"\"\"\n",
    "\n",
    "    def __init__(self, labels, *args, **kwargs):\n",
    "        self.labels = labels\n",
    "        super().__init__(*args, **kwargs)\n",
    "\n",
    "    def __len__(self):\n",
    "        return len(self.labels)\n",
    "\n",
    "    def __getitem__(self, index):\n",
    "        row = self.labels.iloc[index] # picks only those in the ground truth\n",
    "\n",
    "        image_path = os.path.join(os.getcwd(), self.img_dir, row['filename'])\n",
    "        image = read_image(image_path)\n",
    "        image = self.transform(image)\n",
    "        label = row['elevation']\n",
    "\n",
    "        return image, label\n",
    "\n",
    "    def get_means_stds(self):\n",
    "        tensors = [img for img, _ in self]\n",
    "\n",
    "        # Split channels\n",
    "        channels = torch.chunk(torch.stack(tensors), 3, dim=1)\n",
    "\n",
    "        means = [torch.mean(channel).item() for channel in channels]\n",
    "        stds = [torch.std(channel).item() for channel in channels]\n",
    "\n",
    "        return means, stds"
   ]
  }
 ],
 "metadata": {
  "kernelspec": {
   "display_name": "venv",
   "language": "python",
   "name": "python3"
  },
  "language_info": {
   "codemirror_mode": {
    "name": "ipython",
    "version": 3
   },
   "file_extension": ".py",
   "mimetype": "text/x-python",
   "name": "python",
   "nbconvert_exporter": "python",
   "pygments_lexer": "ipython3",
   "version": "3.11.3"
  },
  "orig_nbformat": 4
 },
 "nbformat": 4,
 "nbformat_minor": 2
}
