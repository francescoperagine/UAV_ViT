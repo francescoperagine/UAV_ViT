{
 "cells": [
  {
   "attachments": {},
   "cell_type": "markdown",
   "metadata": {},
   "source": [
    "## University of Bari Aldo Moro\n",
    "<a name=\"top\"></a>\n",
    "Master Degree in <b>Computer Science</b> - <b>Computer Vision Course</b><br>"
   ]
  },
  {
   "attachments": {},
   "cell_type": "markdown",
   "metadata": {},
   "source": [
    "### Vision Transformer for Unmanned Aerial Vehicles Agronomic Research\n",
    "- [Dependencies](#dependencies)\n",
    "- [Paths](#paths)\n",
    "- [Parameters](#parameters)\n",
    "- [Preprocessing](#preprocessing)\n",
    "    - [Ground Truth](#ground-truth)\n",
    "    - [Plots Clipper](#plots_clipper)\n",
    "- [Dataset](#dataset)\n",
    "- [Model](#model)\n",
    "    - [Training](#training)\n",
    "    - [Evaluation](#evaluation)\n",
    "- [Visualization](#visualization)\n",
    "- [Inference](#inference)"
   ]
  },
  {
   "attachments": {},
   "cell_type": "markdown",
   "metadata": {},
   "source": [
    "### Dependencies\n",
    "<a name='dependencies'></a>"
   ]
  },
  {
   "cell_type": "code",
   "execution_count": null,
   "metadata": {},
   "outputs": [],
   "source": [
    "# Libraries\n",
    "\n",
    "from argparse import ArgumentParser\n",
    "from pytorch_lightning.callbacks import ModelCheckpoint, EarlyStopping, LearningRateFinder\n",
    "from sklearn.metrics import r2_score\n",
    "from sklearn.model_selection import train_test_split\n",
    "from sklearn.preprocessing import MinMaxScaler\n",
    "from torch.utils.data import DataLoader\n",
    "from torchvision.io import read_image\n",
    "from torchvision.models import get_model, ViT_B_32_Weights, ViT_B_16_Weights, ViT_L_16_Weights, ViT_L_32_Weights\n",
    "import matplotlib.pyplot as plt\n",
    "import mlflow.pytorch\n",
    "import numpy as np\n",
    "import os\n",
    "import pandas as pd\n",
    "import pytorch_lightning as pl\n",
    "import torch\n",
    "import torchvision\n",
    "torchvision.disable_beta_transforms_warning()"
   ]
  },
  {
   "cell_type": "code",
   "execution_count": null,
   "metadata": {},
   "outputs": [],
   "source": [
    "# Torch version\n",
    "\n",
    "print(\"Torch version\", torch.__version__)"
   ]
  },
  {
   "cell_type": "code",
   "execution_count": null,
   "metadata": {},
   "outputs": [],
   "source": [
    "# Import from notebooks\n",
    "\n",
    "import import_ipynb\n",
    "\n",
    "from notebooks.gcp_finder import GCPFinder\n",
    "from notebooks.clipper import Clipper\n",
    "from notebooks.dataset import BaseDataset, PlotsDataset\n",
    "from notebooks.vit import UAV_vit\n",
    "from notebooks.visualization import Plotter"
   ]
  },
  {
   "cell_type": "code",
   "execution_count": null,
   "metadata": {},
   "outputs": [],
   "source": [
    "# Cuda setup\n",
    "\n",
    "if torch.cuda.is_available():\n",
    "    device = torch.device(\"cuda\")\n",
    "    print(\"GPU is available and being used\", device)\n",
    "else:\n",
    "    device = torch.device(\"cpu\")\n",
    "    print(\"GPU is not available, using CPU instead\", device)"
   ]
  },
  {
   "cell_type": "markdown",
   "metadata": {},
   "source": [
    "#### Paths\n",
    "<a name=\"paths\"></a>"
   ]
  },
  {
   "cell_type": "code",
   "execution_count": null,
   "metadata": {},
   "outputs": [],
   "source": [
    "# Paths\n",
    "\n",
    "DATASET_PATH = \"./data/dataset\"\n",
    "PLOT_PATH = \"./data/plots\"\n",
    "SAMPLES_PATH = \"./data/raw_samples\"\n",
    "VISUALS_PATH = \"./data/visuals\"\n",
    "SHAPEFILE_PATH = \"./data/shapefile/all_plots.shp\"\n",
    "ORTHOMOSAIC_PATH = \"./data/orthomosaic/raster.tif\"\n",
    "GCP_PATH = \"./data/GCP_Images\"\n",
    "GROUND_TRUTH_PATH = './data/ground_truth/corn_plant_height_ground_truth.xlsx'\n",
    "MODEL_PATH = \"./data/models/\"\n",
    "CHECKPOINT_PATH = \"./mlruns/0/\""
   ]
  },
  {
   "cell_type": "markdown",
   "metadata": {},
   "source": [
    "### Parameters\n",
    "<a name='parameters'></a>"
   ]
  },
  {
   "cell_type": "code",
   "execution_count": null,
   "metadata": {},
   "outputs": [],
   "source": [
    "# Parameters\n",
    "\n",
    "TEST_SIZE = 0.2 # % of dataset\n",
    "VAL_SIZE = 0.2  # % of training set\n",
    "\n",
    "MIN_EPOCS = 20\n",
    "MAX_EPOCS = -1\n",
    "BATCH_SIZE = 8\n",
    "WORKERS = 4\n",
    "IMG_SIZE = (224,224)\n",
    "\n",
    "BACKBONES = [\n",
    "    {'name': \"vit_b_16\", 'weights': ViT_B_16_Weights.DEFAULT}, # default ImageNet on DeIT recipe\n",
    "    {'name': \"vit_b_16\", 'weights': ViT_B_16_Weights.IMAGENET1K_SWAG_LINEAR_V1},\n",
    "    {'name': \"vit_b_32\", 'weights': ViT_B_32_Weights.DEFAULT},\n",
    "    {'name': \"vit_l_16\", 'weights': ViT_L_16_Weights.DEFAULT}, # recipe https://github.com/pytorch/vision/tree/main/references/classification#vit_l_16\n",
    "    {'name': \"vit_l_16\", 'weights': ViT_L_16_Weights.IMAGENET1K_SWAG_LINEAR_V1},\n",
    "    {'name': \"vit_l_32\", 'weights': ViT_L_32_Weights.DEFAULT},\n",
    "]\n",
    "BACKBONE = BACKBONES[2]\n",
    "\n",
    "FROZEN_LAYERS = 6\n",
    "\n",
    "ES_PATIENCE = 10\n",
    "ES_STOPPING_THRESHOLD = 1e-4\n",
    "ES_DIVERGENCE_THRESHOLD = 5\n",
    "SIGMA_MULTIPLIER = 3\n",
    "\n",
    "LR_FINDER = False\n",
    "LEARNING_RATE = 1e-6\n",
    "WEIGHT_DECAY = 1e-1\n",
    "DROPOUT = 0\n",
    "ATTENTION_DROPOUT = 0"
   ]
  },
  {
   "attachments": {},
   "cell_type": "markdown",
   "metadata": {},
   "source": [
    "## Preprocessing\n",
    "<a name='preprocessing'></a>"
   ]
  },
  {
   "cell_type": "markdown",
   "metadata": {},
   "source": [
    "#### Ground truth\n",
    "<a name=\"ground_truth\"></a>"
   ]
  },
  {
   "cell_type": "code",
   "execution_count": null,
   "metadata": {},
   "outputs": [],
   "source": [
    "# Loading the ground truth\n",
    "df = pd.read_excel(GROUND_TRUTH_PATH)\n",
    "df[['DataFile 3', 'PHT(m)', 'Elev maximum (m)']].head()"
   ]
  },
  {
   "cell_type": "code",
   "execution_count": null,
   "metadata": {},
   "outputs": [],
   "source": [
    "# Ground Truth Preprocessing\n",
    "\n",
    "def renaming(filename):\n",
    "    return filename[:-4] + \".png\"\n",
    "\n",
    "def elev_avg(row):\n",
    "    return (row['PHT(m)'] + row[\"Elev maximum (m)\"]) / 2\n",
    "\n",
    "# Apply renaming and averaging\n",
    "df[\"filename\"] = df[\"DataFile 3\"].apply(renaming)\n",
    "df[\"elevation_avg\"] = (df.apply(elev_avg, axis=1))\n",
    "\n",
    "# Elevation format conversion to float32\n",
    "df[\"elevation_avg\"] = df[\"elevation_avg\"].astype(np.float32)\n",
    "df[['filename', 'elevation_avg']].head()"
   ]
  },
  {
   "cell_type": "code",
   "execution_count": null,
   "metadata": {},
   "outputs": [],
   "source": [
    "# Targets normalization\n",
    "\n",
    "scaler = MinMaxScaler()\n",
    "df[\"elevation\"] = scaler.fit_transform(df[[\"elevation_avg\"]])"
   ]
  },
  {
   "cell_type": "code",
   "execution_count": null,
   "metadata": {},
   "outputs": [],
   "source": [
    "# Scaled targets\n",
    "\n",
    "df[[\"filename\", \"elevation\"]].head()"
   ]
  },
  {
   "cell_type": "markdown",
   "metadata": {},
   "source": [
    "#### Plots Clipper\n",
    "<a name='plots_clipper'></a>"
   ]
  },
  {
   "cell_type": "code",
   "execution_count": null,
   "metadata": {},
   "outputs": [],
   "source": [
    "# clipper = Clipper(ORTHOMOSAIC_PATH, SHAPEFILE_PATH, PLOT_PATH)\n",
    "# clipper.start()"
   ]
  },
  {
   "cell_type": "markdown",
   "metadata": {},
   "source": [
    "## Dataset\n",
    "<a name=\"dataset\"></a>"
   ]
  },
  {
   "cell_type": "code",
   "execution_count": null,
   "metadata": {},
   "outputs": [],
   "source": [
    "# Datasets definition\n",
    "labels=df[[\"filename\", \"elevation\", \"elevation_avg\"]]\n",
    "dataset = PlotsDataset(labels=labels, img_dir=PLOT_PATH, img_size=IMG_SIZE)\n",
    "\n",
    "print(f\"Dataset length: {len(dataset)}\")\n",
    "print(f\"Image type: {type(dataset[0][0])}\")\n",
    "print(f\"Image shape: {dataset[0][0].shape})\")\n",
    "print(f\"Label type: {type(dataset[0][1])}\")"
   ]
  },
  {
   "cell_type": "code",
   "execution_count": null,
   "metadata": {},
   "outputs": [],
   "source": [
    "# Dataset samples\n",
    "\n",
    "cols, rows = 4, 4\n",
    "figure = plt.figure(figsize=(8, 8))\n",
    "for i in range(1, cols * rows + 1):\n",
    "    sample_index = torch.randint(len(dataset), size=(1,)).item()\n",
    "    row = labels.iloc[sample_index] # picks only those in the ground truth\n",
    "    image_path = os.path.join(os.getcwd(), PLOT_PATH, row['filename'])\n",
    "    img = read_image(image_path)\n",
    "    label = labels.iloc[i]['elevation_avg']\n",
    "    img = img.permute(1,2,0)\n",
    "    figure.add_subplot(rows, cols, i)\n",
    "    plt.suptitle(\"Plot samples \" + \"Dataset\")\n",
    "    filename = labels.iloc[i]['filename'][0:-4]\n",
    "    plt.title(f'{filename}: {label:.2f}m')        \n",
    "    plt.axis(\"off\")\n",
    "    plt.imshow(img)\n",
    "plt.show()"
   ]
  },
  {
   "cell_type": "code",
   "execution_count": null,
   "metadata": {},
   "outputs": [],
   "source": [
    "# Pixel distribution\n",
    "\n",
    "plt.hist(dataset[0][0].permute(1,2,0).ravel(), bins=50, density=True, log=True)\n",
    "plt.xlabel(\"Pixel values\")\n",
    "plt.ylabel(\"Relative frequency\")\n",
    "plt.title(\"Pixels distribution\")"
   ]
  },
  {
   "cell_type": "code",
   "execution_count": null,
   "metadata": {},
   "outputs": [],
   "source": [
    "means, stds = dataset.get_means_stds()"
   ]
  },
  {
   "cell_type": "code",
   "execution_count": null,
   "metadata": {},
   "outputs": [],
   "source": [
    "# HuberLoss delta / Pseudo Huber Loss beta\n",
    "sigma = np.mean(stds)\n",
    "print(\"Sigma\", sigma)\n",
    "loss_threshold = sigma * SIGMA_MULTIPLIER\n",
    "print(\"Loss threshold\", loss_threshold)"
   ]
  },
  {
   "cell_type": "code",
   "execution_count": null,
   "metadata": {},
   "outputs": [],
   "source": [
    "# Dataset split\n",
    "\n",
    "train_set, test_set = train_test_split(dataset, test_size=TEST_SIZE)\n",
    "train_set, val_set = train_test_split(train_set, test_size=VAL_SIZE)\n",
    "\n",
    "print(f\"Training set size: {len(train_set)}\")\n",
    "print(f\"Validation set size: {len(val_set)}\")\n",
    "print(f\"Test set size: {len(test_set)}\")"
   ]
  },
  {
   "cell_type": "code",
   "execution_count": null,
   "metadata": {},
   "outputs": [],
   "source": [
    "# Dataloaders\n",
    "\n",
    "train_loader = DataLoader(train_set, batch_size=BATCH_SIZE, num_workers=WORKERS)\n",
    "val_loader = DataLoader(val_set, batch_size=BATCH_SIZE, num_workers=WORKERS)\n",
    "test_loader = DataLoader(test_set, batch_size=BATCH_SIZE, num_workers=WORKERS)\n",
    "\n",
    "print(f\"Train Dataloader size: {len(train_loader)}\")\n",
    "print(f\"Validation Dataloader size: {len(val_loader)}\")\n",
    "print(f\"Test Dataloader size: {len(test_loader)}\")"
   ]
  },
  {
   "attachments": {},
   "cell_type": "markdown",
   "metadata": {},
   "source": [
    "## Model\n",
    "<a name='model'></a>"
   ]
  },
  {
   "cell_type": "code",
   "execution_count": null,
   "metadata": {},
   "outputs": [],
   "source": [
    "# Backbone\n",
    "\n",
    "backbone = get_model(BACKBONE['name'], weights=BACKBONE['weights'])\n",
    "backbone.heads"
   ]
  },
  {
   "cell_type": "code",
   "execution_count": null,
   "metadata": {},
   "outputs": [],
   "source": [
    "# Vargs setup\n",
    "\n",
    "def setup_vargs(lr = LEARNING_RATE):\n",
    "    parser = ArgumentParser()\n",
    "    parser.add_argument('--learning_rate', type=float, default=lr)\n",
    "    parser.add_argument('--loss_threshold', type=float, default=loss_threshold)\n",
    "    parser.add_argument('--weight_decay', type=float, default=WEIGHT_DECAY)\n",
    "    parser.add_argument('--batch_size', type=int, default=BATCH_SIZE)\n",
    "    parser.add_argument('--no_grad_layers_n', type=int, default=FROZEN_LAYERS)\n",
    "    parser.add_argument('--dropout', type=float, default=DROPOUT)\n",
    "    parser.add_argument('--attention_dropout', type=float, default=ATTENTION_DROPOUT)\n",
    "\n",
    "    args, _ = parser.parse_known_args()\n",
    "\n",
    "    vargs = vars(args)\n",
    "    return vargs\n",
    "\n",
    "vargs = setup_vargs()"
   ]
  },
  {
   "cell_type": "code",
   "execution_count": null,
   "metadata": {},
   "outputs": [],
   "source": [
    "# Model\n",
    "\n",
    "model = UAV_vit(backbone, **vargs)"
   ]
  },
  {
   "cell_type": "code",
   "execution_count": null,
   "metadata": {},
   "outputs": [],
   "source": [
    "# Model summary\n",
    "\n",
    "model.backbone"
   ]
  },
  {
   "attachments": {},
   "cell_type": "markdown",
   "metadata": {},
   "source": [
    "### Training\n",
    "<a name='training'></a>"
   ]
  },
  {
   "cell_type": "code",
   "execution_count": null,
   "metadata": {},
   "outputs": [],
   "source": [
    "# MLFlow init\n",
    "\n",
    "mlflow.pytorch.autolog() \n",
    "mlflow.start_run()\n",
    "\n",
    "run = mlflow.active_run()\n",
    "log_run_id = run.info.run_id\n",
    "print(f\"Active run_id: {run.info.run_id}\")"
   ]
  },
  {
   "cell_type": "code",
   "execution_count": null,
   "metadata": {},
   "outputs": [],
   "source": [
    "# Callbacks\n",
    "\n",
    "run_path = f\"{CHECKPOINT_PATH}{log_run_id}/artifacts/restored_model_checkpoint/\"\n",
    "CHECKPOINT_FILENAME =\"uav_vit-checkpoint\"\n",
    "\n",
    "learning_rate_finder_cb = LearningRateFinder()\n",
    "checkpoint_cb = ModelCheckpoint(dirpath=run_path, save_top_k=1, monitor=\"val_loss\", mode=\"min\", filename=CHECKPOINT_FILENAME, save_weights_only=True)\n",
    "earlyStopping_cb = EarlyStopping(monitor=\"val_loss\", patience=ES_PATIENCE, stopping_threshold=ES_STOPPING_THRESHOLD, divergence_threshold=ES_DIVERGENCE_THRESHOLD, mode=\"min\")\n",
    "\n",
    "callbacks = [earlyStopping_cb, checkpoint_cb]\n",
    "if LR_FINDER:\n",
    "    callbacks.append(learning_rate_finder_cb)"
   ]
  },
  {
   "cell_type": "code",
   "execution_count": null,
   "metadata": {},
   "outputs": [],
   "source": [
    "# Trainer\n",
    "\n",
    "trainer = pl.Trainer(\n",
    "    min_epochs=MIN_EPOCS,\n",
    "    max_epochs=MAX_EPOCS,\n",
    "    callbacks=callbacks,\n",
    "    num_sanity_val_steps=0,\n",
    "    enable_checkpointing=True,\n",
    "    default_root_dir=run_path,\n",
    "    # enable_progress_bar=False\n",
    ")"
   ]
  },
  {
   "cell_type": "code",
   "execution_count": null,
   "metadata": {},
   "outputs": [],
   "source": [
    "# Fit\n",
    "\n",
    "trainer.fit(model, train_loader, val_loader)"
   ]
  },
  {
   "cell_type": "code",
   "execution_count": null,
   "metadata": {},
   "outputs": [],
   "source": [
    "# Plotter\n",
    "plotter = Plotter(VISUALS_PATH, log_run_id)"
   ]
  },
  {
   "cell_type": "code",
   "execution_count": null,
   "metadata": {},
   "outputs": [],
   "source": [
    "# LR finder plot\n",
    "LR_FOUND = True if LR_FINDER and learning_rate_finder_cb.optimal_lr.suggestion() else False\n",
    "if LR_FOUND:\n",
    "    suggested_lr = learning_rate_finder_cb.optimal_lr.suggestion()\n",
    "    learning_rate_finder_cb.optimal_lr.plot(suggest=True, show=True)\n",
    "    plt.savefig(f\"{plotter.path}/suggested_lr.png\")\n",
    "    plt.show()"
   ]
  },
  {
   "attachments": {},
   "cell_type": "markdown",
   "metadata": {},
   "source": [
    "### Testing\n",
    "<a name='testing'></a>"
   ]
  },
  {
   "cell_type": "code",
   "execution_count": null,
   "metadata": {},
   "outputs": [],
   "source": [
    "# Best model path\n",
    "\n",
    "# ckpt_run_path = checkpoint_cb.best_model_path\n",
    "\n",
    "ckpt_run_path = f\"{run_path}{CHECKPOINT_FILENAME}.ckpt\"\n"
   ]
  },
  {
   "cell_type": "code",
   "execution_count": null,
   "metadata": {},
   "outputs": [],
   "source": [
    "# Load best model\n",
    "if LR_FOUND:\n",
    "    vargs = setup_vargs(suggested_lr)\n",
    "model = UAV_vit.load_from_checkpoint(ckpt_run_path, backbone=backbone, **vargs)"
   ]
  },
  {
   "cell_type": "code",
   "execution_count": null,
   "metadata": {},
   "outputs": [],
   "source": [
    "# Test best model\n",
    "\n",
    "trainer.test(model, test_loader)"
   ]
  },
  {
   "cell_type": "code",
   "execution_count": null,
   "metadata": {},
   "outputs": [],
   "source": [
    "# Extract test results\n",
    "\n",
    "outputs = model.test_output\n",
    "test_loss = model.test_loss\n",
    "test_targets_mean = model.test_targets_mean\n",
    "test_targets = [x[1] for x in test_set]"
   ]
  },
  {
   "cell_type": "code",
   "execution_count": null,
   "metadata": {},
   "outputs": [],
   "source": [
    "outputs = scaler.inverse_transform(np.array(outputs).reshape(-1,1))\n",
    "test_targets_mean = scaler.inverse_transform(np.array(test_targets_mean).reshape(-1,1))\n",
    "test_targets = scaler.inverse_transform(np.array(test_targets).reshape(-1,1))"
   ]
  },
  {
   "cell_type": "code",
   "execution_count": null,
   "metadata": {},
   "outputs": [],
   "source": [
    "residuals = []\n",
    "for lab, out in zip(test_targets, outputs):\n",
    "    residuals.append(lab - out)"
   ]
  },
  {
   "cell_type": "code",
   "execution_count": null,
   "metadata": {},
   "outputs": [],
   "source": [
    "# R2 score\n",
    "\n",
    "r2 = r2_score(test_targets, outputs)\n",
    "print(f\"R2 score: {r2}\")"
   ]
  },
  {
   "cell_type": "markdown",
   "metadata": {},
   "source": [
    "### Visualization\n",
    "<a name='visualization'></a>"
   ]
  },
  {
   "cell_type": "code",
   "execution_count": null,
   "metadata": {},
   "outputs": [],
   "source": [
    "plotter.boxplot(test_targets)"
   ]
  },
  {
   "cell_type": "code",
   "execution_count": null,
   "metadata": {},
   "outputs": [],
   "source": [
    "plotter.outputs_vs_targets(outputs, test_targets, r2)"
   ]
  },
  {
   "cell_type": "code",
   "execution_count": null,
   "metadata": {},
   "outputs": [],
   "source": [
    "plotter.residuals_vs_outputs(residuals, outputs)"
   ]
  },
  {
   "cell_type": "code",
   "execution_count": null,
   "metadata": {},
   "outputs": [],
   "source": [
    "plotter.residuals_hist(residuals)"
   ]
  },
  {
   "cell_type": "code",
   "execution_count": null,
   "metadata": {},
   "outputs": [],
   "source": [
    "plotter.residuals_errors(residuals)"
   ]
  },
  {
   "cell_type": "code",
   "execution_count": null,
   "metadata": {},
   "outputs": [],
   "source": [
    "plotter.targets_means_vs_losses(test_targets_mean, test_loss)"
   ]
  },
  {
   "cell_type": "code",
   "execution_count": null,
   "metadata": {},
   "outputs": [],
   "source": [
    "# Log parameters\n",
    "\n",
    "mlflow.log_params({\n",
    "    \"model\": BACKBONE['name'],\n",
    "    \"weights\": BACKBONE['weights'],\n",
    "    \"R2Score\": r2,\n",
    "    \"weight_decay\": WEIGHT_DECAY,\n",
    "    \"batch_size\": BATCH_SIZE,\n",
    "    \"dropout\": DROPOUT,\n",
    "    \"dropout_attention\": ATTENTION_DROPOUT,\n",
    "    \"criterion\": model.criterion,\n",
    "    \"frozen layers\": FROZEN_LAYERS,\n",
    "    \"train_epochs\": MAX_EPOCS,\n",
    "    \"run_id\": log_run_id,\n",
    "    \"path\": checkpoint_cb.best_model_path,\n",
    "    })\n",
    "if LR_FOUND:\n",
    "    mlflow.log_param(\"suggested_lr\", suggested_lr)\n",
    "\n",
    "mlflow.log_artifact(\"main.ipynb\")\n",
    "mlflow.log_artifact(\"notebooks/vit.ipynb\")\n",
    "mlflow.log_artifact(\"notebooks/dataset.ipynb\")\n",
    "mlflow.end_run()"
   ]
  },
  {
   "cell_type": "markdown",
   "metadata": {},
   "source": [
    "### Inference\n",
    "<a name='inference'></a>"
   ]
  },
  {
   "cell_type": "code",
   "execution_count": null,
   "metadata": {},
   "outputs": [],
   "source": [
    "samplesDataset = BaseDataset(SAMPLES_PATH, IMG_SIZE)\n",
    "samplesDataloader = DataLoader(samplesDataset, batch_size=BATCH_SIZE)"
   ]
  },
  {
   "cell_type": "code",
   "execution_count": null,
   "metadata": {},
   "outputs": [],
   "source": [
    "# Predictions\n",
    "predictions = trainer.predict(model, dataloaders=samplesDataloader, return_predictions=True)"
   ]
  },
  {
   "cell_type": "code",
   "execution_count": null,
   "metadata": {},
   "outputs": [],
   "source": [
    "predictions = np.concatenate(predictions)\n",
    "predictions = scaler.inverse_transform(np.array(predictions).reshape(-1,1))\n",
    "predictions = [item.item() for sublist in predictions for item in sublist]\n",
    "print(\"Predicted results:\\n\", *predictions, sep='\\n')"
   ]
  }
 ],
 "metadata": {
  "kernelspec": {
   "display_name": "venv",
   "language": "python",
   "name": "python3"
  },
  "language_info": {
   "codemirror_mode": {
    "name": "ipython",
    "version": 3
   },
   "file_extension": ".py",
   "mimetype": "text/x-python",
   "name": "python",
   "nbconvert_exporter": "python",
   "pygments_lexer": "ipython3",
   "version": "3.11.3"
  },
  "orig_nbformat": 4
 },
 "nbformat": 4,
 "nbformat_minor": 2
}
